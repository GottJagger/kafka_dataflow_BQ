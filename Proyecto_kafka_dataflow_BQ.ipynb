{
 "cells": [
  {
   "cell_type": "code",
   "execution_count": null,
   "metadata": {},
   "outputs": [],
   "source": [
    "import apache_beam as beam\n",
    "from apache_beam.options.pipeline_options import PipelineOptions\n",
    "from apache_beam.io.kafka import ReadFromKafka\n",
    "from apache_beam.io.gcp.datastore.v1new.datastoreio import WriteToDatastore\n",
    "\n",
    "# Define las opciones del pipeline\n",
    "options = PipelineOptions(streaming=True)\n",
    "\n",
    "# Configura el topic y los datos de Kafka\n",
    "topic = 'test_topic'\n",
    "bootstrap_servers = 'kafka:9092'\n",
    "options.view_as(beam.options.pipeline_options.StandardOptions).streaming = True\n",
    "\n",
    "# Define el pipeline\n",
    "with beam.Pipeline(options=options) as p:\n",
    "    # Lee los mensajes desde Kafka\n",
    "    messages = (p\n",
    "                | \"ReadFromKafka\" >> ReadFromKafka(\n",
    "                    consumer_config={\n",
    "                        'bootstrap.servers': bootstrap_servers,\n",
    "                        'auto.offset.reset': 'earliest'\n",
    "                    },\n",
    "                    topics=[topic],\n",
    "                )\n",
    "               )\n",
    "\n",
    "    # Define las transformaciones\n",
    "    result = (messages\n",
    "              | \"TransformData\" >> beam.Map(lambda message: (message.key, message.value))\n",
    "              | \"WriteToDatastore\" >> WriteToDatastore(project_id=\"my-project\", kind=\"my-kind\"))\n",
    "\n",
    "    # Ejecuta el pipeline\n",
    "    result | \"PrintResult\" >> beam.Map(print)\n"
   ]
  }
 ],
 "metadata": {
  "language_info": {
   "name": "python"
  },
  "orig_nbformat": 4
 },
 "nbformat": 4,
 "nbformat_minor": 2
}
