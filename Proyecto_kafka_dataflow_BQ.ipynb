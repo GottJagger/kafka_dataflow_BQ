{
 "cells": [
  {
   "cell_type": "code",
   "execution_count": null,
   "metadata": {},
   "outputs": [],
   "source": [
    "import argparse\n",
    "import json\n",
    "\n",
    "import apache_beam as beam\n",
    "from apache_beam.options.pipeline_options import PipelineOptions, SetupOptions\n",
    "from apache_beam.transforms.window import FixedWindows\n",
    "\n",
    "from apache_beam.io.kafka import ReadFromKafka\n",
    "\n",
    "# Define opciones de pipeline\n",
    "options = PipelineOptions()\n",
    "\n",
    "# Define opciones de configuración\n",
    "setup_options = options.view_as(SetupOptions)\n",
    "setup_options.setup_file = './setup.py'\n",
    "\n",
    "# Define opciones de Kafka\n",
    "kafka_options = {\n",
    "    \"bootstrap_servers\": \"127.0.0.1:9092\",  # Dirección IP y puerto de Kafka\n",
    "    \"topics\": [\"test_topic\"],  # Nombre del topic de Kafka\n",
    "    \"consumer_config\": {\"group.id\": \"my-group\"}  # Configuración de consumidor de Kafka\n",
    "}\n",
    "\n",
    "# Define una función para procesar mensajes de Kafka\n",
    "def process_message(message):\n",
    "    # Decodifica el mensaje\n",
    "    message_str = message.value.decode('utf-8')\n",
    "\n",
    "    # Carga el mensaje como un objeto JSON\n",
    "    message_json = json.loads(message_str)\n",
    "\n",
    "    # Procesa el mensaje\n",
    "    # En este ejemplo, simplemente imprimimos el mensaje en la consola\n",
    "    print(message_json)\n",
    "\n",
    "# Define el pipeline\n",
    "with beam.Pipeline(options=options) as p:\n",
    "    # Lee datos de Kafka utilizando el transform ReadFromKafka\n",
    "    # Este transform lee datos de Kafka en formato PCollection\n",
    "    kafka_data = (p\n",
    "                  | \"ReadFromKafka\" >> ReadFromKafka(**kafka_options)\n",
    "                  | \"ProcessData\" >> beam.Map(process_message))\n"
   ]
  }
 ],
 "metadata": {
  "language_info": {
   "name": "python"
  },
  "orig_nbformat": 4
 },
 "nbformat": 4,
 "nbformat_minor": 2
}
